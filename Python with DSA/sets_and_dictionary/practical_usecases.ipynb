{
 "cells": [
  {
   "cell_type": "code",
   "execution_count": 9,
   "metadata": {},
   "outputs": [],
   "source": [
    "to_do_list = [\"Buy Groceries\",\"Clean the house\",\"Pay bills\"]\n",
    "\n",
    "## Adding to task\n",
    "to_do_list.append(\"hello_world\")\n"
   ]
  },
  {
   "cell_type": "code",
   "execution_count": 10,
   "metadata": {},
   "outputs": [
    {
     "name": "stdout",
     "output_type": "stream",
     "text": [
      "['Buy Groceries', 'Clean the house', 'Pay bills', 'hello_world']\n"
     ]
    }
   ],
   "source": [
    "print(to_do_list)\n",
    "to_do_list.remove(\"hello_world\")"
   ]
  },
  {
   "cell_type": "code",
   "execution_count": 11,
   "metadata": {},
   "outputs": [
    {
     "name": "stdout",
     "output_type": "stream",
     "text": [
      "['Buy Groceries', 'Clean the house', 'Pay bills']\n"
     ]
    }
   ],
   "source": [
    "print(to_do_list)"
   ]
  },
  {
   "cell_type": "code",
   "execution_count": 12,
   "metadata": {},
   "outputs": [
    {
     "name": "stdout",
     "output_type": "stream",
     "text": [
      "Don't Forgive\n"
     ]
    }
   ],
   "source": [
    "if \"Pay bills\" in to_do_list:\n",
    "    print(\"Don't Forgive\")\n",
    "    "
   ]
  },
  {
   "cell_type": "code",
   "execution_count": 16,
   "metadata": {},
   "outputs": [
    {
     "name": "stdout",
     "output_type": "stream",
     "text": [
      "*Buy Groceries\n",
      "*Clean the house\n",
      "*Pay bills\n"
     ]
    }
   ],
   "source": [
    "for task in to_do_list:\n",
    "    print(f\"*{task}\")"
   ]
  },
  {
   "cell_type": "code",
   "execution_count": 19,
   "metadata": {},
   "outputs": [
    {
     "name": "stdout",
     "output_type": "stream",
     "text": [
      "Average Grade:88.00\n",
      "highest_grade-95\n",
      "lowest_grade-78\n"
     ]
    }
   ],
   "source": [
    "grades = [85,92,78,90,88]\n",
    "grades.append(95)\n",
    "avg_grade = sum(grades) / len(grades)\n",
    "print (f\"Average Grade:{avg_grade:.2f}\")\n",
    "highest_grade = max(grades)\n",
    "lowest_grade = min(grades)\n",
    "print(f\"highest_grade-{highest_grade}\\nlowest_grade-{lowest_grade}\")"
   ]
  },
  {
   "cell_type": "code",
   "execution_count": 22,
   "metadata": {},
   "outputs": [
    {
     "name": "stdout",
     "output_type": "stream",
     "text": [
      "['bananas', 'Oranges', 'Graphes', 'strawberries']\n",
      "oranges are out of stock.\n"
     ]
    }
   ],
   "source": [
    "# Managing an inventory \n",
    "inventory =[\"apples\",\"bananas\",\"Oranges\",\"Graphes\"]\n",
    "#Adding a new item\n",
    "inventory.append(\"strawberries\")\n",
    "# Removing an item is in stock\n",
    "inventory.remove(\"apples\")\n",
    "print(inventory)\n",
    "item =\"oranges\"\n",
    "if item in inventory:\n",
    "    print(f\"{item} are in stock.\")\n",
    "else:\n",
    "    print(f\"{item} are out of stock.\")"
   ]
  },
  {
   "cell_type": "code",
   "execution_count": 23,
   "metadata": {},
   "outputs": [
    {
     "name": "stdout",
     "output_type": "stream",
     "text": [
      "Invrntory List\n",
      "-bananas\n",
      "-Oranges\n",
      "-Graphes\n",
      "-strawberries\n"
     ]
    }
   ],
   "source": [
    "print(\"Invrntory List\")\n",
    "for item in inventory:\n",
    "    print(f\"-{item}\")"
   ]
  },
  {
   "cell_type": "code",
   "execution_count": 28,
   "metadata": {},
   "outputs": [
    {
     "name": "stdout",
     "output_type": "stream",
     "text": [
      "Positive Feedback Count:2\n",
      "User Feedback:\n",
      "-Great service\n",
      "-Very satisfied\n",
      "-Could be better\n",
      "-Excellent Experience\n",
      "-Not happy with the service\n"
     ]
    }
   ],
   "source": [
    "feedback = [\"Great service\",\"Very satisfied\",\"Could be better\",\"Excellent Experience\"]\n",
    "feedback.append(\"Not happy with the service\")\n",
    "positive_feedback_count = sum(1 for comment in feedback if \"great\" in comment.lower() or \"excellent\" in comment.lower())\n",
    "print(f\"Positive Feedback Count:{positive_feedback_count}\")\n",
    "\n",
    "print(\"User Feedback:\")\n",
    "for comment in feedback:\n",
    "    print(f\"-{comment}\")\n"
   ]
  },
  {
   "cell_type": "code",
   "execution_count": null,
   "metadata": {},
   "outputs": [],
   "source": []
  }
 ],
 "metadata": {
  "kernelspec": {
   "display_name": "Python 3",
   "language": "python",
   "name": "python3"
  },
  "language_info": {
   "codemirror_mode": {
    "name": "ipython",
    "version": 3
   },
   "file_extension": ".py",
   "mimetype": "text/x-python",
   "name": "python",
   "nbconvert_exporter": "python",
   "pygments_lexer": "ipython3",
   "version": "3.12.4"
  }
 },
 "nbformat": 4,
 "nbformat_minor": 2
}
