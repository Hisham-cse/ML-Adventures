{
 "cells": [
  {
   "cell_type": "code",
   "execution_count": null,
   "metadata": {},
   "outputs": [],
   "source": [
    "# # syntax\n",
    "# def function_name(parameters):\n",
    "#     \"\"\"DocString\"\"\"\n",
    "#     \"Function body\"\n",
    "#     return expression\n"
   ]
  },
  {
   "cell_type": "code",
   "execution_count": 1,
   "metadata": {},
   "outputs": [
    {
     "data": {
      "text/plain": [
       "'odd'"
      ]
     },
     "execution_count": 1,
     "metadata": {},
     "output_type": "execute_result"
    }
   ],
   "source": [
    "num = int(input(\"Enter a number\"))\n",
    "\n",
    "def enen(num):\n",
    "    \"\"\"Function finds whether no is even or odd\"\"\"\n",
    "    if num%2==0:\n",
    "        return \"even\"\n",
    "    return \"odd\"\n",
    "enen(num)"
   ]
  },
  {
   "cell_type": "code",
   "execution_count": 5,
   "metadata": {},
   "outputs": [
    {
     "name": "stdout",
     "output_type": "stream",
     "text": [
      "Hello Hisham Welcome to paradise\n"
     ]
    }
   ],
   "source": [
    "# Default parameter\n",
    "def greet(name=\"Hisham\"):\n",
    "    print(f\"Hello {name} Welcome to paradise\")\n",
    "greet()"
   ]
  },
  {
   "cell_type": "code",
   "execution_count": 9,
   "metadata": {},
   "outputs": [
    {
     "name": "stdout",
     "output_type": "stream",
     "text": [
      "1\n",
      "2\n",
      "3\n",
      "4\n",
      "5\n",
      "hello\n",
      "1.1\n"
     ]
    }
   ],
   "source": [
    "### Variable length Arguments\n",
    "### Positioanal and Keywords Arguments \n",
    "def print_numbers(*hisham):\n",
    "    for numbers in hisham:\n",
    "        print(numbers)\n",
    "print_numbers(1,2,3,4,5,\"hello\",1.1)\n"
   ]
  },
  {
   "cell_type": "code",
   "execution_count": 11,
   "metadata": {},
   "outputs": [
    {
     "name": "stdout",
     "output_type": "stream",
     "text": [
      "1\n",
      "2\n",
      "3\n",
      "4\n",
      "5\n",
      "hello\n",
      "1.1\n",
      "Hisham\n"
     ]
    }
   ],
   "source": [
    "#  Positional Arguments\n",
    "def print_numbers(*args):\n",
    "    for numbers in args:\n",
    "        print(numbers)\n",
    "print_numbers(1,2,3,4,5,\"hello\",1.1,\"Hisham\")"
   ]
  },
  {
   "cell_type": "code",
   "execution_count": 18,
   "metadata": {},
   "outputs": [],
   "source": [
    "# Keywords Arguments \n",
    "def print_details(**kwargs):\n",
    "    \n",
    "    for key,value in kwargs.items():\n",
    "        print(f\"{key}:{value}\")"
   ]
  },
  {
   "cell_type": "code",
   "execution_count": 19,
   "metadata": {},
   "outputs": [
    {
     "name": "stdout",
     "output_type": "stream",
     "text": [
      "name:krish\n",
      "age:23\n",
      "country:india\n"
     ]
    }
   ],
   "source": [
    "print_details(name=\"krish\",age=\"23\",country=\"india\")"
   ]
  },
  {
   "cell_type": "code",
   "execution_count": 22,
   "metadata": {},
   "outputs": [],
   "source": [
    "def print_details1(*args,**kwargs):\n",
    "    for numbers in args:\n",
    "        print(f\"Positional Argument{numbers}\")\n",
    "    for key,value in kwargs.items():\n",
    "        print(f\"{key}:{value}\")"
   ]
  },
  {
   "cell_type": "code",
   "execution_count": 25,
   "metadata": {},
   "outputs": [
    {
     "name": "stdout",
     "output_type": "stream",
     "text": [
      "Positional Argument1\n",
      "Positional Argument2\n",
      "Positional Argument3\n",
      "Positional ArgumentHisham\n",
      "name:krish\n",
      "age:23\n",
      "country:india\n"
     ]
    }
   ],
   "source": [
    "print_details1(1,2,3,\"Hisham\",name=\"krish\",age=\"23\",country=\"india\")"
   ]
  },
  {
   "cell_type": "code",
   "execution_count": 31,
   "metadata": {},
   "outputs": [
    {
     "data": {
      "text/plain": [
       "(100, 10)"
      ]
     },
     "execution_count": 31,
     "metadata": {},
     "output_type": "execute_result"
    }
   ],
   "source": [
    "## Return Multiply Statements\n",
    "def multiply(a,b):\n",
    "    return a*b,a\n",
    "multiply(10,10)"
   ]
  },
  {
   "cell_type": "code",
   "execution_count": null,
   "metadata": {},
   "outputs": [],
   "source": []
  }
 ],
 "metadata": {
  "kernelspec": {
   "display_name": "Python 3",
   "language": "python",
   "name": "python3"
  },
  "language_info": {
   "codemirror_mode": {
    "name": "ipython",
    "version": 3
   },
   "file_extension": ".py",
   "mimetype": "text/x-python",
   "name": "python",
   "nbconvert_exporter": "python",
   "pygments_lexer": "ipython3",
   "version": "3.12.4"
  }
 },
 "nbformat": 4,
 "nbformat_minor": 2
}
