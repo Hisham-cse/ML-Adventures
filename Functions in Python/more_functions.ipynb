{
 "cells": [
  {
   "cell_type": "markdown",
   "metadata": {},
   "source": [
    "Temperature Conversion"
   ]
  },
  {
   "cell_type": "code",
   "execution_count": 11,
   "metadata": {},
   "outputs": [
    {
     "name": "stdout",
     "output_type": "stream",
     "text": [
      "36.0\n",
      "77.0\n"
     ]
    }
   ],
   "source": [
    "def cvt_temp(temp,unit):\n",
    "    \"\"\"This function converts temperature btw celsius and Fahrenheut\"\"\"\n",
    "    \n",
    "    if unit=='C':\n",
    "        return temp * 9/5 +32 # celsius to Fahrenheit\n",
    "    elif unit==\"F\":\n",
    "        return (temp-32)*5/9 # Fahrenheit to celsius  \n",
    "    else:\n",
    "        return None\n",
    "print(cvt_temp(96.8,\"F\"))\n",
    "print(cvt_temp(25,\"C\"))"
   ]
  },
  {
   "cell_type": "markdown",
   "metadata": {},
   "source": [
    "Password Strength Checker"
   ]
  },
  {
   "cell_type": "code",
   "execution_count": 12,
   "metadata": {},
   "outputs": [],
   "source": [
    "def is_Strong_password(password):\n",
    "    \"\"\"This function checks if the password is strong or not\"\"\"\n",
    "    if password<8:\n",
    "        return False\n",
    "    if not any(char.isdigit() for char in password):\n",
    "        return False\n",
    "    "
   ]
  },
  {
   "cell_type": "code",
   "execution_count": null,
   "metadata": {},
   "outputs": [],
   "source": []
  }
 ],
 "metadata": {
  "kernelspec": {
   "display_name": "Python 3",
   "language": "python",
   "name": "python3"
  },
  "language_info": {
   "codemirror_mode": {
    "name": "ipython",
    "version": 3
   },
   "file_extension": ".py",
   "mimetype": "text/x-python",
   "name": "python",
   "nbconvert_exporter": "python",
   "pygments_lexer": "ipython3",
   "version": "3.12.4"
  }
 },
 "nbformat": 4,
 "nbformat_minor": 2
}
