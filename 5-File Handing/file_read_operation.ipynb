{
 "cells": [
  {
   "cell_type": "code",
   "execution_count": 4,
   "metadata": {},
   "outputs": [
    {
     "name": "stdout",
     "output_type": "stream",
     "text": [
      "hello\n",
      "hi\n"
     ]
    }
   ],
   "source": [
    "# Read a WHole file\n",
    "\n",
    "with open ('example.txt','r') as file:\n",
    "    content = file.read()\n",
    "    print(content)"
   ]
  },
  {
   "cell_type": "code",
   "execution_count": 6,
   "metadata": {},
   "outputs": [
    {
     "name": "stdout",
     "output_type": "stream",
     "text": [
      "hello\n",
      "hi\n"
     ]
    }
   ],
   "source": [
    "#read a file line by line\n",
    "with open('example.txt') as file:\n",
    "    for line in file:\n",
    "        print(line.strip()) ##strip() removes the newline character "
   ]
  },
  {
   "cell_type": "code",
   "execution_count": 7,
   "metadata": {},
   "outputs": [],
   "source": [
    "# Writing a file (OverWriting)\n",
    "\n",
    "with open('example.txt','w') as file:\n",
    "    file.write(\"Hello World!\\n\")\n",
    "    file.write(\"This is a new line\\n\")\n",
    "\n",
    "##overriding(means) replaces Everything"
   ]
  },
  {
   "cell_type": "code",
   "execution_count": 9,
   "metadata": {},
   "outputs": [],
   "source": [
    "## Write a file (Without Overwriting)\n",
    "with open('example.txt','a') as file:\n",
    "    file.write(\"Append operation taking place! \")\n"
   ]
  },
  {
   "cell_type": "code",
   "execution_count": 10,
   "metadata": {},
   "outputs": [],
   "source": [
    "### Writing a list of lines to a file\n",
    "lines = ['First line \\n','Second line \\n' ,'Third Line\\n']\n",
    "with open('example.txt','a') as file:\n",
    "    file.writelines(lines)    \n"
   ]
  },
  {
   "cell_type": "code",
   "execution_count": 1,
   "metadata": {},
   "outputs": [],
   "source": [
    "# Binary Files\n",
    "\n",
    "#writing into a binary file\n",
    "data = b'\\x00\\x01\\x02\\x03\\x04'\n",
    "with open('example.bin','wb') as file:\n",
    "    file.write(data) "
   ]
  },
  {
   "cell_type": "code",
   "execution_count": 4,
   "metadata": {},
   "outputs": [
    {
     "name": "stdout",
     "output_type": "stream",
     "text": [
      "b'\\x00\\x01\\x02\\x03\\x04'\n"
     ]
    }
   ],
   "source": [
    "\n",
    "#Reading into a binary file\n",
    "with open('example.bin','rb') as file:\n",
    "    content = file.read()\n",
    "    print(content)"
   ]
  },
  {
   "cell_type": "code",
   "execution_count": 6,
   "metadata": {},
   "outputs": [],
   "source": [
    "## Read the content from a source text file and write\n",
    "# Copying a text file \n",
    "\n",
    "with open('example.txt','r') as source_file:\n",
    "   content = source_file.read()\n",
    "\n",
    "with open('destination.txt','w') as destination_file:\n",
    "   destination_file.write(content)"
   ]
  },
  {
   "cell_type": "code",
   "execution_count": 7,
   "metadata": {},
   "outputs": [
    {
     "name": "stdout",
     "output_type": "stream",
     "text": [
      "Lines: 5,Words: 17, Characters:99 \n"
     ]
    }
   ],
   "source": [
    "# read a text file and count  the number of lines,words and characters\n",
    "# Counting lines,words and characters in a text file\n",
    "\n",
    "def count_text_file(file_path):\n",
    "    with open(file_path,'r') as file:\n",
    "        lines = file.readlines()\n",
    "        line_count = len(lines)\n",
    "        word_count = sum(len(line.split())for line in lines)\n",
    "        char_count = sum(len(line) for line in lines)\n",
    "    return line_count,word_count,char_count\n",
    "file_path = 'example.txt'\n",
    "lines,words,characters = count_text_file(file_path)\n",
    "print(f'Lines: {lines},Words: {words}, Characters:{characters} ')"
   ]
  },
  {
   "cell_type": "code",
   "execution_count": 11,
   "metadata": {},
   "outputs": [
    {
     "name": "stdout",
     "output_type": "stream",
     "text": [
      "Hello world\n",
      "This is a new line \n",
      "\n"
     ]
    }
   ],
   "source": [
    "# writing and reading a file\n",
    "\n",
    "# The w+ mode in Python is used to open a file for both reading and writing. If the file does not exist, it will be created. If the file exists, its content is truncated (i.e., the file is overwritten).\n",
    "\n",
    "with open(\"example.txt\",'w+') as file:\n",
    "    file.write(\"Hello world\\n\")\n",
    "    file.write(\"This is a new line \\n\")\n",
    "\n",
    "    #Move the file cursor to begining\n",
    "    file.seek(0)\n",
    "\n",
    "    #Read the content of the file\n",
    "    content=file.read()\n",
    "    print(content)\n"
   ]
  },
  {
   "cell_type": "code",
   "execution_count": null,
   "metadata": {},
   "outputs": [],
   "source": []
  }
 ],
 "metadata": {
  "kernelspec": {
   "display_name": "Python 3",
   "language": "python",
   "name": "python3"
  },
  "language_info": {
   "codemirror_mode": {
    "name": "ipython",
    "version": 3
   },
   "file_extension": ".py",
   "mimetype": "text/x-python",
   "name": "python",
   "nbconvert_exporter": "python",
   "pygments_lexer": "ipython3",
   "version": "3.12.4"
  }
 },
 "nbformat": 4,
 "nbformat_minor": 2
}
